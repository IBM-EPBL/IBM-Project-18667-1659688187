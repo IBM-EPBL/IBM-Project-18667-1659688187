{
  "nbformat": 4,
  "nbformat_minor": 0,
  "metadata": {
    "colab": {
      "provenance": []
    },
    "kernelspec": {
      "name": "python3",
      "display_name": "Python 3"
    },
    "language_info": {
      "name": "python"
    }
  },
  "cells": [
    {
      "cell_type": "code",
      "execution_count": null,
      "metadata": {
        "id": "-lwpWlb_Mmf6"
      },
      "outputs": [],
      "source": []
    },
    {
      "cell_type": "markdown",
      "source": [
        "Step 1:Load the required packages\n"
      ],
      "metadata": {
        "id": "Jrng6wfoLnP2"
      }
    },
    {
      "cell_type": "code",
      "source": [
        "import numpy as np\n",
        "import cv2\n",
        "import os\n",
        "from keras.models import load_model\n",
        "from flask import Flask, render_template, Response\n",
        "import tensorflow as tf\n",
        "from gtts import gTTS\n",
        "global graph\n",
        "global writer\n",
        "from skimage.transform import resize\n"
      ],
      "metadata": {
        "id": "olymofaCHqSx"
      },
      "execution_count": null,
      "outputs": []
    },
    {
      "cell_type": "markdown",
      "source": [
        "Step 2: Initialize graph, load the model, initialize the flask app and load the video\n",
        "\n",
        "Graph element is required to work with tensorflow. So, graph element is created explicitly."
      ],
      "metadata": {
        "id": "94FA5i7gLpjg"
      }
    },
    {
      "cell_type": "code",
      "source": [
        "import tensorflow as tf\n",
        "graph=tf.get_default_graph()\n",
        "writer=None\n",
        "model = load_model('Real_time.h5')\n",
        "vals=['A','B','C','D','E','F','G','H','I']\n",
        "app=Flask(__name__)\n",
        "print(\"[INFO] accessing vedio streams\")\n",
        "vs=cv2.VideoCapture(0)\n",
        "pred=\"\""
      ],
      "metadata": {
        "id": "EpahYaFlLuUi"
      },
      "execution_count": null,
      "outputs": []
    },
    {
      "cell_type": "markdown",
      "source": [
        "Step 3:Configure the home page"
      ],
      "metadata": {
        "id": "omZyfetLLvin"
      }
    },
    {
      "cell_type": "code",
      "source": [
        "@app.route('/')\n",
        "def index():\n",
        "  return render_templates('index.html')"
      ],
      "metadata": {
        "id": "jci9j4KAORWu"
      },
      "execution_count": null,
      "outputs": []
    },
    {
      "cell_type": "code",
      "source": [
        "def detect(frame):\n",
        "  img = resize(frame,(64,64,1))\n",
        "  img = np.expand_dims(img,axis=0)\n",
        "  if(np.max(img)>1):\n",
        "    img = img/255.0\n",
        "  with graph.as_default():\n",
        "    prediction = model.predict_classes(img)\n",
        "  print(prediction)\n",
        "  pred=vals[prediction[0]]\n",
        "  print(pred)\n",
        "  return pred"
      ],
      "metadata": {
        "id": "O_IbHvcANWTV"
      },
      "execution_count": null,
      "outputs": []
    },
    {
      "cell_type": "code",
      "source": [
        "@app.route('/video_feed')\n",
        "def video_feed():\n",
        "  return Response(gen(),mimetype='multipart/x-mixed-replace;boundary=frame')\n",
        "\n",
        "if __name__ == '__main__':\n",
        "  app.run(host='0.0.0.0',debug=True)"
      ],
      "metadata": {
        "id": "Tl4Cd3I-OfMr"
      },
      "execution_count": null,
      "outputs": []
    }
  ]
}